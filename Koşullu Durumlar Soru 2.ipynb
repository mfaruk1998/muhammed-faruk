{
 "cells": [
  {
   "cell_type": "code",
   "execution_count": 1,
   "id": "4fd53511",
   "metadata": {},
   "outputs": [
    {
     "name": "stdout",
     "output_type": "stream",
     "text": [
      "--Büyük Sayı Bulma Programına Hoşgeldiniz--\n",
      "1.Sayıyı Giriniz:3\n",
      "2.Sayıyı Giriniz:4\n",
      "3.Sayıyı Giriniz:5\n",
      "En büyük sayı: 5\n"
     ]
    }
   ],
   "source": [
    "print(\"--Büyük Sayı Bulma Programına Hoşgeldiniz--\")\n",
    "a= int(input(\"1.Sayıyı Giriniz:\"))\n",
    "b= int(input(\"2.Sayıyı Giriniz:\"))\n",
    "c= int(input(\"3.Sayıyı Giriniz:\"))\n",
    "\n",
    "if (a > b) and (a> c):\n",
    "    print(\"En büyük sayı:\", a)\n",
    "elif (b > a) and (b> c):\n",
    "    print(\"En büyük sayı:\", b)\n",
    "elif (c > b) and (c> a):\n",
    "    print(\"En büyük sayı:\", c)"
   ]
  },
  {
   "cell_type": "code",
   "execution_count": null,
   "id": "f0f1a0b5",
   "metadata": {},
   "outputs": [],
   "source": []
  }
 ],
 "metadata": {
  "kernelspec": {
   "display_name": "Python 3",
   "language": "python",
   "name": "python3"
  },
  "language_info": {
   "codemirror_mode": {
    "name": "ipython",
    "version": 3
   },
   "file_extension": ".py",
   "mimetype": "text/x-python",
   "name": "python",
   "nbconvert_exporter": "python",
   "pygments_lexer": "ipython3",
   "version": "3.8.8"
  }
 },
 "nbformat": 4,
 "nbformat_minor": 5
}
