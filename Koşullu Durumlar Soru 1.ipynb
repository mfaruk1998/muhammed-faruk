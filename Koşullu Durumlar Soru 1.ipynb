{
 "cells": [
  {
   "cell_type": "code",
   "execution_count": 1,
   "id": "ad80439b",
   "metadata": {},
   "outputs": [
    {
     "name": "stdout",
     "output_type": "stream",
     "text": [
      "-Beden Kitle indeksi Hesaplama Programına Hoşgeldiniz-\n",
      "Lütfen Kilonuzu Giriniz:62\n",
      "Lütfen Boyunuzu Metre Olarak Giriniz:1.76\n",
      "Beden Kitle Endeksiniz: 20.015495867768596\n",
      "Sonuç: Normal\n"
     ]
    }
   ],
   "source": [
    "print(\"-Beden Kitle indeksi Hesaplama Programına Hoşgeldiniz-\")\n",
    "\n",
    "a= int(input(\"Lütfen Kilonuzu Giriniz:\"))\n",
    "\n",
    "b= float(input(\"Lütfen Boyunuzu Metre Olarak Giriniz:\"))\n",
    "\n",
    "print(\"Beden Kitle Endeksiniz:\", a/(b*b))\n",
    "if (a/(b*b) > 30):\n",
    "    print(\"Sonuç: Obez\")\n",
    "elif (a/(b*b)>25):\n",
    "    print(\"Sonuç: Fazla Kilolu\")\n",
    "elif (a/(b*b)>18.5):\n",
    "    print(\"Sonuç: Normal\")\n",
    "else:\n",
    "    print(\"Sonuç: Zayıf\")"
   ]
  },
  {
   "cell_type": "code",
   "execution_count": null,
   "id": "ae9faa84",
   "metadata": {},
   "outputs": [],
   "source": []
  }
 ],
 "metadata": {
  "kernelspec": {
   "display_name": "Python 3",
   "language": "python",
   "name": "python3"
  },
  "language_info": {
   "codemirror_mode": {
    "name": "ipython",
    "version": 3
   },
   "file_extension": ".py",
   "mimetype": "text/x-python",
   "name": "python",
   "nbconvert_exporter": "python",
   "pygments_lexer": "ipython3",
   "version": "3.8.8"
  }
 },
 "nbformat": 4,
 "nbformat_minor": 5
}
