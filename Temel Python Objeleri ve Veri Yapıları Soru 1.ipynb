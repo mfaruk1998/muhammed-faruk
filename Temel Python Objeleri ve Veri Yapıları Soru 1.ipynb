{
 "cells": [
  {
   "cell_type": "code",
   "execution_count": 1,
   "id": "17670b19",
   "metadata": {},
   "outputs": [
    {
     "name": "stdout",
     "output_type": "stream",
     "text": [
      "Sayı 1:2\n",
      "Sayı 2:3\n",
      "sayı 3:4\n",
      "Girilen sayıların çarpımı:24\n"
     ]
    }
   ],
   "source": [
    "a= int(input(\"Sayı 1:\"))\n",
    "b= int(input(\"Sayı 2:\"))\n",
    "c= int(input(\"sayı 3:\"))\n",
    "\n",
    "print(\"Girilen sayıların çarpımı:{}\".format(a*b*c))"
   ]
  }
 ],
 "metadata": {
  "kernelspec": {
   "display_name": "Python 3",
   "language": "python",
   "name": "python3"
  },
  "language_info": {
   "codemirror_mode": {
    "name": "ipython",
    "version": 3
   },
   "file_extension": ".py",
   "mimetype": "text/x-python",
   "name": "python",
   "nbconvert_exporter": "python",
   "pygments_lexer": "ipython3",
   "version": "3.8.8"
  }
 },
 "nbformat": 4,
 "nbformat_minor": 5
}
