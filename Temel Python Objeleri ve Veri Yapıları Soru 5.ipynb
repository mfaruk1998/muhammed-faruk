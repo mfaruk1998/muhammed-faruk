{
 "cells": [
  {
   "cell_type": "code",
   "execution_count": 19,
   "id": "97d1351e",
   "metadata": {},
   "outputs": [
    {
     "name": "stdout",
     "output_type": "stream",
     "text": [
      "Birinci sayıyı giriniz:5\n",
      "İkinci sayıyı giriniz:8\n",
      "Girilen sayılar...\n",
      "Sayı 1: 5 \n",
      "Sayı 2: 8\n",
      "Sayılar birbiriyle değiştiriliyor...\n",
      "Yeni Sayı 1: 8 \n",
      "Yeni Sayı 2: 5\n"
     ]
    }
   ],
   "source": [
    "a= int(input(\"Birinci sayıyı giriniz:\"))\n",
    "b= int(input(\"İkinci sayıyı giriniz:\"))\n",
    "print(\"Girilen sayılar...\")\n",
    "print(\"Sayı 1:\",a ,\"\\n\" \"Sayı 2:\", b)\n",
    "a,b= b,a\n",
    "print(\"Sayılar birbiriyle değiştiriliyor...\")\n",
    "print (\"Yeni Sayı 1:\", a,\"\\n\" \"Yeni Sayı 2:\", b)"
   ]
  },
  {
   "cell_type": "code",
   "execution_count": null,
   "id": "db2c9bc0",
   "metadata": {},
   "outputs": [],
   "source": []
  }
 ],
 "metadata": {
  "kernelspec": {
   "display_name": "Python 3",
   "language": "python",
   "name": "python3"
  },
  "language_info": {
   "codemirror_mode": {
    "name": "ipython",
    "version": 3
   },
   "file_extension": ".py",
   "mimetype": "text/x-python",
   "name": "python",
   "nbconvert_exporter": "python",
   "pygments_lexer": "ipython3",
   "version": "3.8.8"
  }
 },
 "nbformat": 4,
 "nbformat_minor": 5
}
