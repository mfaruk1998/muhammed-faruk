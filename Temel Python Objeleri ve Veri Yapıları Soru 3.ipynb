{
 "cells": [
  {
   "cell_type": "code",
   "execution_count": 3,
   "id": "347a3154",
   "metadata": {},
   "outputs": [
    {
     "name": "stdout",
     "output_type": "stream",
     "text": [
      "Km başı yakılan miktarı giriniz:0.37\n",
      "Gidilen yol uzunluğunu giriniz:483\n",
      "Ödenecek tutar: 178.71\n"
     ]
    }
   ],
   "source": [
    "a= float(input(\"Km başı yakılan miktarı giriniz:\"))\n",
    "b= float(input(\"Gidilen yol uzunluğunu giriniz:\"))\n",
    "print(\"Ödenecek tutar:\", a*b)"
   ]
  }
 ],
 "metadata": {
  "kernelspec": {
   "display_name": "Python 3",
   "language": "python",
   "name": "python3"
  },
  "language_info": {
   "codemirror_mode": {
    "name": "ipython",
    "version": 3
   },
   "file_extension": ".py",
   "mimetype": "text/x-python",
   "name": "python",
   "nbconvert_exporter": "python",
   "pygments_lexer": "ipython3",
   "version": "3.8.8"
  }
 },
 "nbformat": 4,
 "nbformat_minor": 5
}
