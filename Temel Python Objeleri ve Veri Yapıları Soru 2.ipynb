{
 "cells": [
  {
   "cell_type": "code",
   "execution_count": 3,
   "id": "dc4cb447",
   "metadata": {},
   "outputs": [
    {
     "name": "stdout",
     "output_type": "stream",
     "text": [
      "Lütfen kilonuzu giriniz:62\n",
      "Lütfen boyunuzu giriniz:176\n",
      "Beden kitle endeksiniz:0.3522727272727273\n"
     ]
    }
   ],
   "source": [
    "a= int(input(\"Lütfen kilonuzu giriniz:\"))\n",
    "b= int(input(\"Lütfen boyunuzu giriniz:\"))\n",
    "\n",
    "print(\"Beden kitle endeksiniz:{}\".format(a/b))"
   ]
  }
 ],
 "metadata": {
  "kernelspec": {
   "display_name": "Python 3",
   "language": "python",
   "name": "python3"
  },
  "language_info": {
   "codemirror_mode": {
    "name": "ipython",
    "version": 3
   },
   "file_extension": ".py",
   "mimetype": "text/x-python",
   "name": "python",
   "nbconvert_exporter": "python",
   "pygments_lexer": "ipython3",
   "version": "3.8.8"
  }
 },
 "nbformat": 4,
 "nbformat_minor": 5
}
