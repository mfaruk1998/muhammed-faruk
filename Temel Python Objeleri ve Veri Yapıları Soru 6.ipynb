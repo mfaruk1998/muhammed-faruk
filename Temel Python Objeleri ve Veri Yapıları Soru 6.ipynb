{
 "cells": [
  {
   "cell_type": "code",
   "execution_count": 6,
   "id": "72ea7d43",
   "metadata": {},
   "outputs": [
    {
     "name": "stdout",
     "output_type": "stream",
     "text": [
      "1. kenar uzunluğu:3\n",
      "2. kenar uzunluğu4\n",
      "Hipotenüs uzunluğu: 5.0\n"
     ]
    }
   ],
   "source": [
    "a= int(input(\"1. kenar uzunluğu:\"))\n",
    "b= int(input(\"2. kenar uzunluğu\"))\n",
    "print(\"Hipotenüs uzunluğu:\", (a**2+b**2)**0.5)"
   ]
  }
 ],
 "metadata": {
  "kernelspec": {
   "display_name": "Python 3",
   "language": "python",
   "name": "python3"
  },
  "language_info": {
   "codemirror_mode": {
    "name": "ipython",
    "version": 3
   },
   "file_extension": ".py",
   "mimetype": "text/x-python",
   "name": "python",
   "nbconvert_exporter": "python",
   "pygments_lexer": "ipython3",
   "version": "3.8.8"
  }
 },
 "nbformat": 4,
 "nbformat_minor": 5
}
