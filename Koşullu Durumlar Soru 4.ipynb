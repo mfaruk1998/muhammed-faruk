{
 "cells": [
  {
   "cell_type": "code",
   "execution_count": 1,
   "id": "3990f7b7",
   "metadata": {},
   "outputs": [
    {
     "name": "stdout",
     "output_type": "stream",
     "text": [
      "Üçgen ve Dörtgen Hesaplama Programına Hoşgeldiniz\n",
      "üçgen için 1'e, Dörtgen için 2'ye basınız\n",
      "Hesaplamak İstediğiniz Şekli Seçiniz:1\n",
      "Birinci kenarı giriniz:3\n",
      "ikinci kenarı giriniz:4\n",
      "üçüncü kenarı giriniz:5\n",
      "Bu üçgen sıradan bir üçgendir\n"
     ]
    }
   ],
   "source": [
    "print(\"Üçgen ve Dörtgen Hesaplama Programına Hoşgeldiniz\")\n",
    "\n",
    "print(\"üçgen için 1'e, Dörtgen için 2'ye basınız\")\n",
    "a=int(input(\"Hesaplamak İstediğiniz Şekli Seçiniz:\"))\n",
    "\n",
    "if (a==1):\n",
    "    z=int(input(\"Birinci kenarı giriniz:\"))\n",
    "    x= int(input(\"ikinci kenarı giriniz:\"))\n",
    "    y= int(input(\"üçüncü kenarı giriniz:\"))\n",
    "\n",
    "    if (abs(x-z)<y and y<x+z) and (abs(z-y)<x and x<z+y) and (abs(x-y)<z and z<x+y):\n",
    "        if (x==z==y):\n",
    "            print(\"Bu üçgen eşkenar bir üçgendir\")\n",
    "        elif (x==y or x==z or y==z):\n",
    "            print(\" Bu üçgen ikizkenar bir üçgendir\")\n",
    "        else:\n",
    "            print(\"Bu üçgen sıradan bir üçgendir\")\n",
    "    else:\n",
    "        print(\"Girilen ölçüler bir üçgen oluşturmuyor\")\n",
    "elif (a==2):\n",
    "    k=int(input(\"birinci kenarı giriniz:\"))\n",
    "    l=int(input(\"ikinci kenarı giriniz:\"))\n",
    "    m=int(input(\"üçüncü kenarı giriniz:\"))\n",
    "    n=int(input(\"dördüncü kenarı giriniz:\"))\n",
    "    if (k==l==m==n):\n",
    "        print(\"Bu dörtgen bir karedir\")\n",
    "    else:\n",
    "        print(\"Bu dörtgen sıradan bir dörtgendir\")\n",
    "else:\n",
    "    print(\"Lütfen 1. veya 2. işlemi seçiniz\")"
   ]
  },
  {
   "cell_type": "code",
   "execution_count": null,
   "id": "3bb2632d",
   "metadata": {},
   "outputs": [],
   "source": []
  }
 ],
 "metadata": {
  "kernelspec": {
   "display_name": "Python 3",
   "language": "python",
   "name": "python3"
  },
  "language_info": {
   "codemirror_mode": {
    "name": "ipython",
    "version": 3
   },
   "file_extension": ".py",
   "mimetype": "text/x-python",
   "name": "python",
   "nbconvert_exporter": "python",
   "pygments_lexer": "ipython3",
   "version": "3.8.8"
  }
 },
 "nbformat": 4,
 "nbformat_minor": 5
}
