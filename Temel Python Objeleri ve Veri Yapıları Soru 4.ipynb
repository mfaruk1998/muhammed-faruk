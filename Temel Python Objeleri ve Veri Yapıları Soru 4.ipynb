{
 "cells": [
  {
   "cell_type": "code",
   "execution_count": 40,
   "id": "25f4c7d5",
   "metadata": {},
   "outputs": [
    {
     "name": "stdout",
     "output_type": "stream",
     "text": [
      "Lütfen adınızı giriniz:Muhammed Faruk\n",
      "Lütfen soyadınızı giriniz:Akgül\n",
      "Lütfen numaranızı giriniz:1245\n",
      "Ad:Muhammed Faruk\n",
      "Soyad:Akgül\n",
      "Numara:1245\n"
     ]
    }
   ],
   "source": [
    "a= input(\"Lütfen adınızı giriniz:\")\n",
    "b= input(\"Lütfen soyadınızı giriniz:\")\n",
    "c= int(input(\"Lütfen numaranızı giriniz:\"))\n",
    "\n",
    "print(\"Ad:{}\\nSoyad:{}\\nNumara:{}\".format(a,b,c,))"
   ]
  }
 ],
 "metadata": {
  "kernelspec": {
   "display_name": "Python 3",
   "language": "python",
   "name": "python3"
  },
  "language_info": {
   "codemirror_mode": {
    "name": "ipython",
    "version": 3
   },
   "file_extension": ".py",
   "mimetype": "text/x-python",
   "name": "python",
   "nbconvert_exporter": "python",
   "pygments_lexer": "ipython3",
   "version": "3.8.8"
  }
 },
 "nbformat": 4,
 "nbformat_minor": 5
}
