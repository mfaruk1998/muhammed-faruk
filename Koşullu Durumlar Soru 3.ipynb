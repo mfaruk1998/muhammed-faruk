{
 "cells": [
  {
   "cell_type": "code",
   "execution_count": 2,
   "id": "6ea1fae0",
   "metadata": {},
   "outputs": [
    {
     "name": "stdout",
     "output_type": "stream",
     "text": [
      "Harf Notu Hesaplama Programına Hoşgeldiniz\n",
      "Vize 1 Notunuzu Giriniz:72\n",
      "Vize 2 Notunuzu Gririniz:83\n",
      "Final Notunuzu Giriniz:91\n",
      "Dönem Sonu Notunuz: 82.9\n",
      "Harf Notunuz: BB\n"
     ]
    }
   ],
   "source": [
    "print(\"Harf Notu Hesaplama Programına Hoşgeldiniz\")\n",
    "a=int(input(\"Vize 1 Notunuzu Giriniz:\"))\n",
    "b= int(input(\"Vize 2 Notunuzu Gririniz:\"))\n",
    "c= int(input(\"Final Notunuzu Giriniz:\"))\n",
    "\n",
    "Not= (0.3*a)+(0.3*b)+(0.4)*(c)\n",
    "print(\"Dönem Sonu Notunuz:\", Not)\n",
    "if (Not> 90):\n",
    "    print(\"Harf Notunuz: AA\")\n",
    "elif (Not> 85):\n",
    "    print(\"Harf Notunuz: BA\")\n",
    "elif (Not> 80):\n",
    "    print(\"Harf Notunuz: BB\")\n",
    "elif (Not> 75):\n",
    "    print(\"Harf Notunuz: CB\")\n",
    "elif (Not> 70):\n",
    "    print(\"Harf Notunuz: CC\")\n",
    "elif (Not> 65):\n",
    "    print(\"Harf Notunuz: DC\")\n",
    "elif (Not> 60):\n",
    "    print(\"Harf Notunuz: DD\")\n",
    "elif (Not> 55):\n",
    "    print(\"Harf Notunuz: FD\")\n",
    "elif (Not> 50):\n",
    "    print(\"Harf Notunuz: FF\")"
   ]
  },
  {
   "cell_type": "code",
   "execution_count": null,
   "id": "4b82a033",
   "metadata": {},
   "outputs": [],
   "source": []
  }
 ],
 "metadata": {
  "kernelspec": {
   "display_name": "Python 3",
   "language": "python",
   "name": "python3"
  },
  "language_info": {
   "codemirror_mode": {
    "name": "ipython",
    "version": 3
   },
   "file_extension": ".py",
   "mimetype": "text/x-python",
   "name": "python",
   "nbconvert_exporter": "python",
   "pygments_lexer": "ipython3",
   "version": "3.8.8"
  }
 },
 "nbformat": 4,
 "nbformat_minor": 5
}
